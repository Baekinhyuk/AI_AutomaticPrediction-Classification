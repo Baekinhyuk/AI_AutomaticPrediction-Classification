{
 "cells": [
  {
   "cell_type": "markdown",
   "metadata": {},
   "source": [
    "# Classification Project"
   ]
  },
  {
   "cell_type": "markdown",
   "metadata": {},
   "source": [
    "## File IO\n",
    "\n",
    "Only File IO...\n",
    "\n",
    "You may not change this code."
   ]
  },
  {
   "cell_type": "code",
   "execution_count": 6,
   "metadata": {},
   "outputs": [],
   "source": [
    "from tkinter.filedialog import askopenfilename\n",
    "import pandas as pd\n",
    "import tkinter\n",
    "import os\n",
    "\n",
    "tk_window = tkinter.Tk()\n",
    "cwd = os.getcwd()\n",
    "\n",
    "tr_data = pd.read_csv(askopenfilename(title='Choose your training data'))\n",
    "\n",
    "tr_ans = pd.read_csv(askopenfilename(title='Choose your training answer'))\n",
    "\n",
    "tr_ans = tr_ans.iloc[:, 0]\n",
    "\n",
    "ts_data = pd.read_csv(askopenfilename(title='Choose your test data'))\n",
    "\n",
    "tk_window.destroy()\n",
    "\n"
   ]
  },
  {
   "cell_type": "markdown",
   "metadata": {},
   "source": [
    "## Predict Algorithm\n",
    "\n",
    "Type your source code (Champion Algorithm)"
   ]
  },
  {
   "cell_type": "code",
   "execution_count": 7,
   "metadata": {},
   "outputs": [],
   "source": [
    "from sklearn.neighbors import KNeighborsClassifier\n",
    "from sklearn.linear_model import SGDClassifier\n",
    "from sklearn.linear_model import LogisticRegression\n",
    "from sklearn.linear_model import LogisticRegressionCV\n",
    "from sklearn.naive_bayes import BernoulliNB\n",
    "from sklearn.naive_bayes import MultinomialNB\n",
    "from sklearn.naive_bayes import GaussianNB\n",
    "from sklearn.model_selection import GridSearchCV\n",
    "from sklearn.svm import LinearSVC\n",
    "from sklearn.svm import SVC\n",
    "from sklearn.tree import DecisionTreeClassifier\n",
    "from sklearn.ensemble import BaggingClassifier\n",
    "from sklearn.ensemble import RandomForestClassifier\n",
    "from sklearn.ensemble import ExtraTreesClassifier\n",
    "from sklearn.ensemble import GradientBoostingClassifier\n",
    "from sklearn.ensemble import AdaBoostClassifier\n",
    "from sklearn.preprocessing import StandardScaler\n",
    "\n",
    "# preprocess the feature data\n",
    "StdSc = StandardScaler()\n",
    "\n",
    "StdSc = StdSc.fit(tr_data)\n",
    "tr_data = StdSc.transform(tr_data)\n",
    "\n",
    "StdSc = StdSc.fit(ts_data)\n",
    "ts_data = StdSc.transform(ts_data)\n",
    "\n",
    "# predict the label data\n",
    "KNN = KNeighborsClassifier(n_neighbors=5)\n",
    "KNN = KNN.fit(tr_data, tr_ans)\n",
    "KNN_pred = KNN.predict(ts_data)\n",
    "\n",
    "#SGD = SGDClassifier(loss='log', alpha=0.1, penalty='l2')\n",
    "#SGD = SGD.fit(tr_data, tr_ans)\n",
    "#SGD_pred = SGD.predict(ts_data)\n",
    "\n",
    "LR = LogisticRegression(penalty='l2', C=10.0)\n",
    "LR = LR.fit(tr_data, tr_ans)\n",
    "LR_pred = LR.predict(ts_data)\n",
    "\n",
    "LRCV = LogisticRegressionCV(random_state=0, multi_class='multinomial', cv=4)\n",
    "LRCV = LRCV.fit(tr_data, tr_ans)\n",
    "LRCV_pred = LRCV.predict(ts_data)\n",
    "\n",
    "BNB = BernoulliNB(alpha=1.0)\n",
    "BNB = BNB.fit(tr_data, tr_ans)\n",
    "BNB_pred = BNB.predict(ts_data)\n",
    "\n",
    "#MNB = MultinomialNB(alpha=1.0)\n",
    "#MNB = MNB.fit(tr_data, tr_ans)\n",
    "#MNB_pred = MNB.predict(ts_data)\n",
    "\n",
    "GNB = GaussianNB()\n",
    "GNB = GNB.fit(tr_data, tr_ans)\n",
    "GNB_pred = GNB.predict(ts_data)\n",
    "\n",
    "LR = LogisticRegression(penalty='l2')\n",
    "GS = GridSearchCV(LR, param_grid={'C':[0.001, 0.01, 0.1]}, scoring='accuracy', cv=4)\n",
    "GS = GS.fit(tr_data, tr_ans)\n",
    "GS_pred = GS.predict(ts_data)\n",
    "\n",
    "LinSVM = LinearSVC(penalty='l2', C=10.0)\n",
    "LinSVM = LinSVM.fit(tr_data, tr_ans)\n",
    "LinSVM_pred = LinSVM.predict(ts_data)\n",
    "\n",
    "rbfSVM = SVC(kernel='rbf', degree=6, C=2.0)\n",
    "rbfSVM = rbfSVM.fit(tr_data, tr_ans)\n",
    "rbfSVM_pred = rbfSVM.predict(ts_data)\n",
    "\n",
    "DTC = DecisionTreeClassifier(criterion='gini', max_features=10, max_depth=5)\n",
    "DTC = DTC.fit(tr_data, tr_ans)\n",
    "DTC_pred = DTC.predict(ts_data)\n",
    "\n",
    "BC = BaggingClassifier(n_estimators=50)\n",
    "BC = BC.fit(tr_data, tr_ans)\n",
    "BC_pred = BC.predict(ts_data)\n",
    "\n",
    "RC = RandomForestClassifier(n_estimators=100, max_features=10)\n",
    "RC = RC.fit(tr_data, tr_ans)\n",
    "RC_pred = RC.predict(ts_data)\n",
    "\n",
    "EC = ExtraTreesClassifier(n_estimators=100, max_features=10)\n",
    "EC = EC.fit(tr_data, tr_ans)\n",
    "EC_pred = EC.predict(ts_data)\n",
    "\n",
    "GBC = GradientBoostingClassifier(learning_rate=0.1, max_features=1, subsample=0.5, n_estimators=200)\n",
    "GBC = GBC.fit(tr_data, tr_ans)\n",
    "GBC_pred = GBC.predict(ts_data)\n",
    "\n",
    "ABC = AdaBoostClassifier(base_estimator=DecisionTreeClassifier(), learning_rate=0.1, n_estimators=200)\n",
    "ABC = ABC.fit(tr_data, tr_ans)\n",
    "ABC_pred = ABC.predict(ts_data)\n",
    "\n",
    "\n",
    "# pred_df = pd.DataFrame(y_pred)\n",
    "\n",
    "# pred_df.to_csv(\"output.csv\", mode='w')"
   ]
  },
  {
   "cell_type": "code",
   "execution_count": 8,
   "metadata": {},
   "outputs": [],
   "source": [
    "LR = LogisticRegression(penalty='l2', C=10.0)\n",
    "LR = LR.fit(tr_data, tr_ans)\n",
    "LR_pred = LR.predict(ts_data)\n",
    "pred_df = pd.DataFrame(LR_pred)\n",
    "pred_df.to_csv(\"output.csv\", mode='w')"
   ]
  },
  {
   "cell_type": "markdown",
   "metadata": {},
   "source": [
    "## Check Accuracy\n",
    "\n",
    "Only for check accuracy"
   ]
  },
  {
   "cell_type": "code",
   "execution_count": 5,
   "metadata": {
    "scrolled": true
   },
   "outputs": [
    {
     "name": "stdout",
     "output_type": "stream",
     "text": [
      "KNN :  0.9923017705927637\n",
      "LR :  0.9969207082371054\n",
      "LRCV :  0.9399538106235565\n",
      "BNB :  0.9692070823710547\n",
      "GNB :  0.9738260200153964\n",
      "GS :  0.9923017705927637\n",
      "LinSVM :  0.9969207082371054\n",
      "rbfSVM :  0.9969207082371054\n",
      "DTC :  0.9838337182448037\n",
      "BC :  0.9946112394149346\n",
      "RC :  0.9953810623556582\n",
      "EC :  0.9961508852963818\n",
      "GBC :  0.9946112394149346\n",
      "ABC :  0.9892224788298691\n"
     ]
    }
   ],
   "source": [
    "def accuracy(real, predict):\n",
    "    return sum(real == predict) / float(real.shape[0])\n",
    "\n",
    "tk_window = tkinter.Tk()\n",
    "cwd = os.getcwd()\n",
    "ts_ans = pd.read_csv(askopenfilename(title='Choose your test answer'))\n",
    "ts_ans = ts_ans.iloc[:, 0]\n",
    "tk_window.destroy()\n",
    "\n",
    "print('KNN : ', accuracy(ts_ans, KNN_pred))\n",
    "#print('SGD : ', accuracy(ts_ans, SGD_pred))\n",
    "print('LR : ', accuracy(ts_ans, LR_pred))\n",
    "print('LRCV : ', accuracy(ts_ans, LRCV_pred))\n",
    "print('BNB : ', accuracy(ts_ans, BNB_pred))\n",
    "#print('MNB : ', accuracy(ts_ans, MNB_pred))\n",
    "print('GNB : ', accuracy(ts_ans, GNB_pred))\n",
    "print('GS : ', accuracy(ts_ans, GS_pred))\n",
    "print('LinSVM : ', accuracy(ts_ans, LinSVM_pred))\n",
    "print('rbfSVM : ', accuracy(ts_ans, rbfSVM_pred))\n",
    "print('DTC : ', accuracy(ts_ans, DTC_pred))\n",
    "print('BC : ', accuracy(ts_ans, BC_pred))\n",
    "print('RC : ', accuracy(ts_ans, RC_pred))\n",
    "print('EC : ', accuracy(ts_ans, EC_pred))\n",
    "print('GBC : ', accuracy(ts_ans, GBC_pred))\n",
    "print('ABC : ', accuracy(ts_ans, ABC_pred))\n",
    "# print(accuracy(ts_ans, y_pred))"
   ]
  },
  {
   "cell_type": "code",
   "execution_count": null,
   "metadata": {},
   "outputs": [],
   "source": []
  }
 ],
 "metadata": {
  "kernelspec": {
   "display_name": "Python 3",
   "language": "python",
   "name": "python3"
  },
  "language_info": {
   "codemirror_mode": {
    "name": "ipython",
    "version": 3
   },
   "file_extension": ".py",
   "mimetype": "text/x-python",
   "name": "python",
   "nbconvert_exporter": "python",
   "pygments_lexer": "ipython3",
   "version": "3.6.5"
  }
 },
 "nbformat": 4,
 "nbformat_minor": 2
}
