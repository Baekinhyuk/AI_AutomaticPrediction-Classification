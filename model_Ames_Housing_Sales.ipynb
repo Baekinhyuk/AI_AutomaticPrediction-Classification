{
 "cells": [
  {
   "cell_type": "markdown",
   "metadata": {},
   "source": [
    "# Regression Project"
   ]
  },
  {
   "cell_type": "markdown",
   "metadata": {},
   "source": [
    "## File IO\n",
    "\n",
    "Only File IO...\n",
    "\n",
    "You may not change this code."
   ]
  },
  {
   "cell_type": "code",
   "execution_count": 1,
   "metadata": {},
   "outputs": [],
   "source": [
    "from tkinter.filedialog import askopenfilename\n",
    "import pandas as pd\n",
    "import tkinter\n",
    "import os\n",
    "\n",
    "tk_window = tkinter.Tk()\n",
    "cwd = os.getcwd()\n",
    "\n",
    "tr_data = pd.read_csv(askopenfilename(title='Choose your training data'))\n",
    "\n",
    "tr_ans = pd.read_csv(askopenfilename(title='Choose your training answer'))\n",
    "\n",
    "tr_ans = tr_ans.iloc[:, 0]\n",
    "\n",
    "ts_data = pd.read_csv(askopenfilename(title='Choose your test data'))\n",
    "\n",
    "tk_window.destroy()\n",
    "\n"
   ]
  },
  {
   "cell_type": "markdown",
   "metadata": {},
   "source": [
    "## Predict Algorithm\n",
    "\n",
    "Type your source code (Champion Algorithm)"
   ]
  },
  {
   "cell_type": "code",
   "execution_count": 5,
   "metadata": {},
   "outputs": [
    {
     "name": "stderr",
     "output_type": "stream",
     "text": [
      "C:\\Users\\rltn4\\Anaconda3\\lib\\site-packages\\sklearn\\linear_model\\coordinate_descent.py:491: ConvergenceWarning: Objective did not converge. You might want to increase the number of iterations. Fitting data with very small alpha may cause precision problems.\n",
      "  ConvergenceWarning)\n",
      "C:\\Users\\rltn4\\Anaconda3\\lib\\site-packages\\sklearn\\linear_model\\coordinate_descent.py:491: ConvergenceWarning: Objective did not converge. You might want to increase the number of iterations. Fitting data with very small alpha may cause precision problems.\n",
      "  ConvergenceWarning)\n",
      "C:\\Users\\rltn4\\Anaconda3\\lib\\site-packages\\sklearn\\linear_model\\coordinate_descent.py:491: ConvergenceWarning: Objective did not converge. You might want to increase the number of iterations. Fitting data with very small alpha may cause precision problems.\n",
      "  ConvergenceWarning)\n",
      "C:\\Users\\rltn4\\Anaconda3\\lib\\site-packages\\sklearn\\linear_model\\coordinate_descent.py:491: ConvergenceWarning: Objective did not converge. You might want to increase the number of iterations. Fitting data with very small alpha may cause precision problems.\n",
      "  ConvergenceWarning)\n",
      "C:\\Users\\rltn4\\Anaconda3\\lib\\site-packages\\sklearn\\linear_model\\coordinate_descent.py:491: ConvergenceWarning: Objective did not converge. You might want to increase the number of iterations. Fitting data with very small alpha may cause precision problems.\n",
      "  ConvergenceWarning)\n",
      "C:\\Users\\rltn4\\Anaconda3\\lib\\site-packages\\sklearn\\linear_model\\coordinate_descent.py:491: ConvergenceWarning: Objective did not converge. You might want to increase the number of iterations. Fitting data with very small alpha may cause precision problems.\n",
      "  ConvergenceWarning)\n"
     ]
    }
   ],
   "source": [
    "from sklearn.linear_model import LinearRegression\n",
    "from sklearn.linear_model import LogisticRegression\n",
    "from sklearn.linear_model import Lasso\n",
    "from sklearn.linear_model import Ridge\n",
    "from sklearn.linear_model import ElasticNet\n",
    "from sklearn.linear_model import LassoCV\n",
    "from sklearn.linear_model import RidgeCV\n",
    "from sklearn.linear_model import ElasticNetCV\n",
    "from sklearn.pipeline import Pipeline\n",
    "from sklearn.tree import DecisionTreeRegressor\n",
    "from sklearn.preprocessing import MinMaxScaler\n",
    "import numpy as np\n",
    "\n",
    "# preprocess the feature data\n",
    "# delete String columns\n",
    "string_columns = tr_data.dtypes\n",
    "string_boolidx = string_columns == np.object\n",
    "\n",
    "tr_data_num = tr_data.drop(tr_data.columns[string_boolidx], axis=1)\n",
    "ts_data_num = ts_data.drop(ts_data.columns[string_boolidx], axis=1)\n",
    "\n",
    "# delete NaN columns\n",
    "tr_nan_idx = tr_data_num.isna().any()\n",
    "ts_nan_idx = ts_data_num.isna().any()\n",
    "\n",
    "total_nan_idx = np.logical_or(tr_nan_idx, ts_nan_idx)\n",
    "\n",
    "tr_data_pre = tr_data_num.drop(tr_data_num.columns[total_nan_idx], axis=1)\n",
    "ts_data_pre = ts_data_num.drop(ts_data_num.columns[total_nan_idx], axis=1)\n",
    "\n",
    "# predict the label data\n",
    "alphaList = np.array([1e-5, 5e-5, 0.0001, 0.0005, 0.005, 0.05, 0.1, 0.3, 1, 3, 5, 10, 15, 30, 80])\n",
    "l1_ratios = np.linspace(0.1, 0.9, 9)\n",
    "estimators = [('scaler', MinMaxScaler()), ('lasso', Lasso())]\n",
    "\n",
    "LR = LinearRegression()\n",
    "LR.fit(tr_data_pre,tr_ans)\n",
    "LR_pred = LR.predict(ts_data_pre)\n",
    "\n",
    "LGR = LogisticRegression()\n",
    "LGR.fit(tr_data_pre,tr_ans)\n",
    "LGR_pred = LGR.predict(ts_data_pre)\n",
    "\n",
    "LS = Lasso(alpha=0.0001)\n",
    "LS.fit(tr_data_pre,tr_ans)\n",
    "LS_pred = LS.predict(ts_data_pre)\n",
    "\n",
    "RG = Ridge(alpha=0.001)\n",
    "RG.fit(tr_data_pre,tr_ans)\n",
    "RG_pred = RG.predict(ts_data_pre)\n",
    "\n",
    "EN = ElasticNet(alpha=1.0, l1_ratio=0.5)\n",
    "EN = EN.fit(tr_data_pre,tr_ans)\n",
    "EN_pred = EN.predict(ts_data_pre)\n",
    "\n",
    "LSCV = LassoCV(alphas=alphaList, max_iter=5e4, cv=3).fit(tr_data_pre,tr_ans)\n",
    "LSCV_pred = LSCV.predict(ts_data_pre)\n",
    "\n",
    "RGCV = RidgeCV(alphas=alphaList, cv=4).fit(tr_data_pre,tr_ans)\n",
    "RGCV_pred = RGCV.predict(ts_data_pre)\n",
    "\n",
    "ENCV = ElasticNetCV(alphas=alphaList, l1_ratio=l1_ratios, max_iter=1e4).fit(tr_data_pre,tr_ans)\n",
    "ENCV_pred = ENCV.predict(ts_data_pre)\n",
    "\n",
    "PIPE = Pipeline(estimators)\n",
    "PIPE = PIPE.fit(tr_data_pre, tr_ans)\n",
    "PIPE_pred = PIPE.predict(ts_data_pre)\n",
    "\n",
    "DTR = DecisionTreeRegressor(random_state=0)\n",
    "DTR = DTR.fit(tr_data_pre, tr_ans)\n",
    "DTR_pred = DTR.predict(ts_data_pre)\n",
    "\n",
    "# pred_df = pd.DataFrame(y_pred)\n",
    "\n",
    "# pred_df.to_csv(\"output.csv\", mode='w')"
   ]
  },
  {
   "cell_type": "markdown",
   "metadata": {},
   "source": [
    "## Check Accuracy\n",
    "\n",
    "Only for check accuracy"
   ]
  },
  {
   "cell_type": "code",
   "execution_count": 6,
   "metadata": {},
   "outputs": [
    {
     "name": "stdout",
     "output_type": "stream",
     "text": [
      "LinearRegression :  28190.220030470507\n",
      "LogisticRegression :  53467.46536383343\n",
      "Lasso :  28190.21986063705\n",
      "Ridge :  28190.196961251688\n",
      "ElasticNet :  28718.475854571047\n",
      "LassoCV :  28190.22001348404\n",
      "RidgeCV :  28130.42616870825\n",
      "ElasticNetCV :  27954.307283401526\n",
      "Pipeline :  28204.60188502569\n",
      "DTR :  36518.51952993415\n"
     ]
    }
   ],
   "source": [
    "from sklearn.metrics import mean_squared_error\n",
    "\n",
    "def rmse(ytrue, ypredicted):\n",
    "    return np.sqrt(mean_squared_error(ytrue, ypredicted))\n",
    "\n",
    "tk_window = tkinter.Tk()\n",
    "cwd = os.getcwd()\n",
    "ts_ans = pd.read_csv(askopenfilename(title='Choose your test answer'))\n",
    "ts_ans = ts_ans.iloc[:, 0]\n",
    "tk_window.destroy()\n",
    "\n",
    "print('LinearRegression : ',rmse(ts_ans, LR_pred))\n",
    "print('LogisticRegression : ',rmse(ts_ans, LGR_pred))\n",
    "print('Lasso : ',rmse(ts_ans, LS_pred))\n",
    "print('Ridge : ',rmse(ts_ans, RG_pred))\n",
    "print('ElasticNet : ',rmse(ts_ans, EN_pred))\n",
    "print('LassoCV : ',rmse(ts_ans, LSCV_pred))\n",
    "print('RidgeCV : ', rmse(ts_ans, RGCV_pred))\n",
    "print('ElasticNetCV : ',rmse(ts_ans, ENCV_pred))\n",
    "print('Pipeline : ', rmse(ts_ans, PIPE_pred))\n",
    "print('DTR : ', rmse(ts_ans, DTR_pred))\n",
    "# print(rmse(ts_ans, y_pred))"
   ]
  },
  {
   "cell_type": "code",
   "execution_count": null,
   "metadata": {},
   "outputs": [],
   "source": []
  }
 ],
 "metadata": {
  "kernelspec": {
   "display_name": "Python 3",
   "language": "python",
   "name": "python3"
  },
  "language_info": {
   "codemirror_mode": {
    "name": "ipython",
    "version": 3
   },
   "file_extension": ".py",
   "mimetype": "text/x-python",
   "name": "python",
   "nbconvert_exporter": "python",
   "pygments_lexer": "ipython3",
   "version": "3.6.5"
  }
 },
 "nbformat": 4,
 "nbformat_minor": 2
}
