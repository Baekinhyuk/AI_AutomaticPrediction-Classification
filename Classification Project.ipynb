{
 "cells": [
  {
   "cell_type": "markdown",
   "metadata": {},
   "source": [
    "# Classification Project"
   ]
  },
  {
   "cell_type": "markdown",
   "metadata": {},
   "source": [
    "## File IO\n",
    "\n",
    "Only File IO...\n",
    "\n",
    "You may not change this code."
   ]
  },
  {
   "cell_type": "code",
   "execution_count": 11,
   "metadata": {},
   "outputs": [],
   "source": [
    "from tkinter.filedialog import askopenfilename\n",
    "import pandas as pd\n",
    "import tkinter\n",
    "import os\n",
    "\n",
    "tk_window = tkinter.Tk()\n",
    "cwd = os.getcwd()\n",
    "\n",
    "tr_data = pd.read_csv(askopenfilename(title='Choose your training data'))\n",
    "\n",
    "tr_ans = pd.read_csv(askopenfilename(title='Choose your training answer'))\n",
    "\n",
    "tr_ans = tr_ans.iloc[:, 0]\n",
    "\n",
    "ts_data = pd.read_csv(askopenfilename(title='Choose your test data'))\n",
    "\n",
    "tk_window.destroy()\n",
    "\n"
   ]
  },
  {
   "cell_type": "markdown",
   "metadata": {},
   "source": [
    "## Predict Algorithm\n",
    "\n",
    "Type your source code (Champion Algorithm)"
   ]
  },
  {
   "cell_type": "markdown",
   "metadata": {},
   "source": [
    "# IRIS"
   ]
  },
  {
   "cell_type": "code",
   "execution_count": 2,
   "metadata": {},
   "outputs": [],
   "source": [
    "from sklearn.neighbors import KNeighborsClassifier\n",
    "from sklearn.linear_model import SGDClassifier\n",
    "from sklearn.linear_model import LogisticRegression\n",
    "from sklearn.linear_model import LogisticRegressionCV\n",
    "from sklearn.naive_bayes import BernoulliNB\n",
    "from sklearn.naive_bayes import MultinomialNB\n",
    "from sklearn.naive_bayes import GaussianNB\n",
    "from sklearn.model_selection import GridSearchCV\n",
    "from sklearn.svm import LinearSVC\n",
    "from sklearn.svm import SVC\n",
    "from sklearn.tree import DecisionTreeClassifier\n",
    "from sklearn.ensemble import BaggingClassifier\n",
    "from sklearn.ensemble import RandomForestClassifier\n",
    "from sklearn.ensemble import ExtraTreesClassifier\n",
    "from sklearn.ensemble import GradientBoostingClassifier\n",
    "from sklearn.ensemble import AdaBoostClassifier\n",
    "from sklearn.preprocessing import MinMaxScaler\n",
    "from sklearn.discriminant_analysis import LinearDiscriminantAnalysis\n",
    "from sklearn.decomposition import PCA\n",
    "import numpy as np\n",
    "\n",
    "\n",
    "# preprocess the feature data\n",
    "mmc = MinMaxScaler()\n",
    "\n",
    "tr_data = mmc.fit_transform(tr_data)\n",
    "ts_data = mmc.transform(ts_data)\n",
    "\n",
    "LDA = LinearDiscriminantAnalysis(n_components=2)\n",
    "LDA.fit(tr_data, tr_ans)\n",
    "y_pred = LDA.predict(ts_data)\n",
    "\n",
    "pred_df = pd.DataFrame(y_pred)\n",
    "\n",
    "pred_df.to_csv(\"output.csv\", mode='w')"
   ]
  },
  {
   "cell_type": "markdown",
   "metadata": {},
   "source": [
    "# ORANGE TEL"
   ]
  },
  {
   "cell_type": "code",
   "execution_count": 7,
   "metadata": {},
   "outputs": [],
   "source": [
    "from sklearn.ensemble import ExtraTreesClassifier\n",
    "from sklearn.ensemble import VotingClassifier\n",
    "from sklearn.ensemble import BaggingClassifier\n",
    "from sklearn.ensemble import RandomForestClassifier\n",
    "from sklearn.ensemble import GradientBoostingClassifier\n",
    "\n",
    "import warnings\n",
    "warnings.filterwarnings(action='ignore', category=DeprecationWarning)\n",
    "\n",
    "tr_data.drop(['state', 'area_code', 'phone_number'], axis=1, inplace=True)\n",
    "ts_data.drop(['state', 'area_code', 'phone_number'], axis=1, inplace=True)\n",
    "\n",
    "from sklearn.preprocessing import LabelBinarizer\n",
    "\n",
    "lb = LabelBinarizer()\n",
    "\n",
    "for col in ['intl_plan', 'voice_mail_plan']:\n",
    "    tr_data[col] = lb.fit_transform(tr_data[col])\n",
    "\n",
    "for col in ['intl_plan', 'voice_mail_plan']:\n",
    "    ts_data[col] = lb.fit_transform(ts_data[col])\n",
    "    \n",
    "clf1 = BaggingClassifier(n_estimators=400)\n",
    "clf2 = ExtraTreesClassifier(n_estimators=400, max_features=9)\n",
    "clf3 = GradientBoostingClassifier(learning_rate=0.1, max_features=9, subsample=0.5, n_estimators=400)\n",
    "eclf = VotingClassifier(estimators=[('bc', clf1), ('rc', clf2), ('ec', clf3)],voting='hard')\n",
    "eclf = eclf.fit(tr_data, tr_ans)\n",
    "y_pred = eclf.predict(ts_data)\n",
    "pred_df = pd.DataFrame(y_pred)\n",
    "\n",
    "pred_df.to_csv(\"output.csv\", mode='w')"
   ]
  },
  {
   "cell_type": "markdown",
   "metadata": {},
   "source": [
    "# SMARTPHONE"
   ]
  },
  {
   "cell_type": "code",
   "execution_count": 15,
   "metadata": {},
   "outputs": [],
   "source": [
    "from sklearn.ensemble import GradientBoostingClassifier\n",
    "from sklearn.linear_model import LogisticRegression\n",
    "from sklearn.linear_model import LogisticRegressionCV\n",
    "from sklearn.ensemble import ExtraTreesClassifier\n",
    "from sklearn.ensemble import VotingClassifier\n",
    "\n",
    "import warnings\n",
    "warnings.filterwarnings(action='ignore', category=DeprecationWarning)\n",
    "\n",
    "clf1 = LogisticRegression(penalty='l2', C=10.0)\n",
    "clf2 = ExtraTreesClassifier(n_estimators=100, max_features=10)\n",
    "clf3 = GradientBoostingClassifier(learning_rate=0.1, max_features=10, subsample=0.5, n_estimators=200)\n",
    "eclf = VotingClassifier(estimators=[('lr', clf1), ('ec', clf2), ('gbc', clf3)],voting='hard')\n",
    "eclf = eclf.fit(tr_data, tr_ans)\n",
    "y_pred = eclf.predict(ts_data)\n",
    "\n",
    "pred_df = pd.DataFrame(y_pred)\n",
    "\n",
    "pred_df.to_csv(\"output.csv\", mode='w')"
   ]
  },
  {
   "cell_type": "markdown",
   "metadata": {},
   "source": [
    "# EMPLOYEE"
   ]
  },
  {
   "cell_type": "code",
   "execution_count": 9,
   "metadata": {},
   "outputs": [],
   "source": [
    "from sklearn.neighbors import KNeighborsClassifier\n",
    "from sklearn.linear_model import SGDClassifier\n",
    "from sklearn.linear_model import LogisticRegression\n",
    "from sklearn.linear_model import LogisticRegressionCV\n",
    "from sklearn.naive_bayes import BernoulliNB\n",
    "from sklearn.naive_bayes import MultinomialNB\n",
    "from sklearn.naive_bayes import GaussianNB\n",
    "from sklearn.model_selection import GridSearchCV\n",
    "from sklearn.svm import LinearSVC\n",
    "from sklearn.svm import SVC\n",
    "from sklearn.tree import DecisionTreeClassifier\n",
    "from sklearn.ensemble import BaggingClassifier\n",
    "from sklearn.ensemble import RandomForestClassifier\n",
    "from sklearn.ensemble import ExtraTreesClassifier\n",
    "from sklearn.ensemble import GradientBoostingClassifier\n",
    "from sklearn.ensemble import AdaBoostClassifier\n",
    "from sklearn.preprocessing import LabelEncoder\n",
    "from sklearn.preprocessing import MinMaxScaler\n",
    "from sklearn.preprocessing import StandardScaler\n",
    "from sklearn.kernel_approximation import Nystroem\n",
    "from sklearn.kernel_approximation import RBFSampler\n",
    "from sklearn.ensemble import VotingClassifier\n",
    "import warnings\n",
    "warnings.filterwarnings(action='ignore', category=DeprecationWarning)\n",
    "# preprocess the feature data\n",
    "z_data = tr_data.pop('department')\n",
    "\n",
    "le = LabelEncoder()\n",
    "le.fit(z_data)\n",
    "le.classes_\n",
    "department_le = le.transform(z_data)\n",
    "tr_data['department'] = department_le\n",
    "\n",
    "z_data = ts_data.pop('department')\n",
    "\n",
    "le = LabelEncoder()\n",
    "le.fit(z_data)\n",
    "le.classes_\n",
    "department_le = le.transform(z_data)\n",
    "ts_data['department'] = department_le\n",
    "\n",
    "LR = LogisticRegression(penalty='l2', C=10.0)\n",
    "clf1 = ExtraTreesClassifier(n_estimators=100, max_features=4)\n",
    "clf2 = LogisticRegressionCV(random_state=0, multi_class='multinomial', cv=6)\n",
    "clf3 = GaussianNB()\n",
    "clf4 = GridSearchCV(LR, param_grid={'C':[0.001, 0.01, 0.1]}, scoring='accuracy', cv=6)\n",
    "eclf = VotingClassifier(estimators=[('ec', clf1), ('abc', clf2), ('rf', clf3), ('bc', clf4)],voting='soft',weights=[2,1,1,1])\n",
    "eclf = eclf.fit(tr_data, tr_ans)\n",
    "y_pred = eclf.predict(ts_data)\n",
    "\n",
    "pred_df = pd.DataFrame(y_pred)\n",
    "\n",
    "pred_df.to_csv(\"output.csv\", mode='w')"
   ]
  },
  {
   "cell_type": "markdown",
   "metadata": {},
   "source": [
    "# WINE"
   ]
  },
  {
   "cell_type": "code",
   "execution_count": 18,
   "metadata": {},
   "outputs": [],
   "source": [
    "from sklearn.neighbors import KNeighborsClassifier\n",
    "from sklearn.linear_model import SGDClassifier\n",
    "from sklearn.linear_model import LogisticRegression\n",
    "from sklearn.linear_model import LogisticRegressionCV\n",
    "from sklearn.naive_bayes import GaussianNB\n",
    "from sklearn.model_selection import GridSearchCV\n",
    "from sklearn.svm import LinearSVC\n",
    "from sklearn.svm import SVC\n",
    "from sklearn.tree import DecisionTreeClassifier\n",
    "from sklearn.ensemble import BaggingClassifier\n",
    "from sklearn.ensemble import RandomForestClassifier\n",
    "from sklearn.ensemble import ExtraTreesClassifier\n",
    "from sklearn.ensemble import GradientBoostingClassifier\n",
    "from sklearn.ensemble import AdaBoostClassifier\n",
    "from sklearn.preprocessing import StandardScaler\n",
    "from sklearn.discriminant_analysis import LinearDiscriminantAnalysis\n",
    "\n",
    "StdSc = StandardScaler()\n",
    "\n",
    "StdSc = StdSc.fit(tr_data)\n",
    "tr_data = StdSc.transform(tr_data)\n",
    "\n",
    "StdSc = StdSc.fit(ts_data)\n",
    "ts_data = StdSc.transform(ts_data)\n",
    "\n",
    "SVM1 = SVC(kernel='rbf', degree= 9 , C = 6.0)\n",
    "SVM1.fit(tr_data, tr_ans)\n",
    "y_pred = SVM1.predict(ts_data)\n",
    "\n",
    "pred_df = pd.DataFrame(y_pred)\n",
    "\n",
    "pred_df.to_csv(\"output.csv\", mode='w')"
   ]
  },
  {
   "cell_type": "markdown",
   "metadata": {},
   "source": [
    "# Housing Sale(집값)"
   ]
  },
  {
   "cell_type": "code",
   "execution_count": 12,
   "metadata": {},
   "outputs": [],
   "source": [
    "from sklearn.linear_model import LinearRegression\n",
    "from sklearn.linear_model import LogisticRegression\n",
    "from sklearn.linear_model import Lasso\n",
    "from sklearn.linear_model import Ridge\n",
    "from sklearn.linear_model import ElasticNet\n",
    "from sklearn.linear_model import LassoCV\n",
    "from sklearn.linear_model import RidgeCV\n",
    "from sklearn.linear_model import ElasticNetCV\n",
    "from sklearn.pipeline import Pipeline\n",
    "from sklearn.tree import DecisionTreeRegressor\n",
    "from sklearn.preprocessing import MinMaxScaler\n",
    "from sklearn.preprocessing import RobustScaler\n",
    "from sklearn.ensemble import GradientBoostingRegressor as gbr\n",
    "# from sklearn.ensemble import RandomForestRegressor as rfr\n",
    "import numpy as np\n",
    "\n",
    "# preprocess the feature data\n",
    "# delete String columns\n",
    "string_columns = tr_data.dtypes\n",
    "string_boolidx = string_columns == np.object\n",
    "\n",
    "tr_data_num = tr_data.drop(tr_data.columns[string_boolidx], axis=1)\n",
    "ts_data_num = ts_data.drop(ts_data.columns[string_boolidx], axis=1)\n",
    "\n",
    "# delete NaN columns\n",
    "tr_nan_idx = tr_data_num.isna().any()\n",
    "ts_nan_idx = ts_data_num.isna().any()\n",
    "\n",
    "total_nan_idx = np.logical_or(tr_nan_idx, ts_nan_idx)\n",
    "\n",
    "tr_data_pre = tr_data_num.drop(tr_data_num.columns[total_nan_idx], axis=1)\n",
    "ts_data_pre = ts_data_num.drop(ts_data_num.columns[total_nan_idx], axis=1)\n",
    "\n",
    "# predict the label data\n",
    "# alphaList = np.array([1e-5, 5e-5, 0.0001, 0.0005, 0.005, 0.05, 0.1, 0.3, 1, 3, 5, 10, 15, 30, 80])\n",
    "# l1_ratios = np.linspace(0.1, 0.9, 9)\n",
    "# estimators = [('scaler', MinMaxScaler()), ('lasso', Lasso())]\n",
    "\n",
    "# tr_data_robust = RobustScaler(quantile_range=(10.0, 90.0)).fit_transform(tr_data_pre)\n",
    "# ts_data_robust = RobustScaler(quantile_range=(10.0, 90.0)).fit_transform(ts_data_pre)\n",
    "\n",
    "params = {'n_estimators':3000, 'max_depth':5, 'learning_rate':0.009, 'loss':'ls', 'min_samples_split':20, 'min_samples_leaf':3, 'max_features':'sqrt', 'random_state':0}\n",
    "\n",
    "clf2 = gbr(**params)\n",
    "clf2.fit(tr_data_pre, tr_ans)\n",
    "y_pred = clf2.predict(ts_data_pre)\n",
    "\n",
    "pred_df = pd.DataFrame(y_pred)\n",
    "\n",
    "pred_df.to_csv(\"output.csv\", mode='w')"
   ]
  },
  {
   "cell_type": "markdown",
   "metadata": {},
   "source": [
    "## Check Accuracy\n",
    "\n",
    "Only for check accuracy"
   ]
  },
  {
   "cell_type": "code",
   "execution_count": 10,
   "metadata": {
    "scrolled": true
   },
   "outputs": [
    {
     "name": "stdout",
     "output_type": "stream",
     "text": [
      "0.618539513171057\n"
     ]
    }
   ],
   "source": [
    "def accuracy(real, predict):\n",
    "    return sum(real == predict) / float(real.shape[0])\n",
    "\n",
    "tk_window = tkinter.Tk()\n",
    "cwd = os.getcwd()\n",
    "ts_ans = pd.read_csv(askopenfilename(title='Choose your test answer'))\n",
    "ts_ans = ts_ans.iloc[:, 0]\n",
    "tk_window.destroy()\n",
    "\n",
    "print(accuracy(ts_ans, y_pred))"
   ]
  },
  {
   "cell_type": "code",
   "execution_count": 13,
   "metadata": {},
   "outputs": [
    {
     "name": "stdout",
     "output_type": "stream",
     "text": [
      "21050.698229900067\n"
     ]
    }
   ],
   "source": [
    "from sklearn.metrics import mean_squared_error\n",
    "\n",
    "def rmse(ytrue, ypredicted):\n",
    "    return np.sqrt(mean_squared_error(ytrue, ypredicted))\n",
    "\n",
    "tk_window = tkinter.Tk()\n",
    "cwd = os.getcwd()\n",
    "ts_ans = pd.read_csv(askopenfilename(title='Choose your test answer'))\n",
    "ts_ans = ts_ans.iloc[:, 0]\n",
    "tk_window.destroy()\n",
    "\n",
    "print(rmse(ts_ans, y_pred))"
   ]
  },
  {
   "cell_type": "code",
   "execution_count": null,
   "metadata": {},
   "outputs": [],
   "source": []
  }
 ],
 "metadata": {
  "kernelspec": {
   "display_name": "Python 3",
   "language": "python",
   "name": "python3"
  },
  "language_info": {
   "codemirror_mode": {
    "name": "ipython",
    "version": 3
   },
   "file_extension": ".py",
   "mimetype": "text/x-python",
   "name": "python",
   "nbconvert_exporter": "python",
   "pygments_lexer": "ipython3",
   "version": "3.6.5"
  }
 },
 "nbformat": 4,
 "nbformat_minor": 2
}
